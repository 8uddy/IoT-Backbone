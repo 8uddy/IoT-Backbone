{
 "cells": [
  {
   "cell_type": "code",
   "execution_count": 1,
   "id": "16e4b078-0616-457e-af0f-605da277d859",
   "metadata": {},
   "outputs": [
    {
     "name": "stdout",
     "output_type": "stream",
     "text": [
      "Data written to InfluxDB: 100\n"
     ]
    }
   ],
   "source": [
    "from influxdb_client import InfluxDBClient, Point, WritePrecision\n",
    "from influxdb_client.client.write_api import SYNCHRONOUS\n",
    "\n",
    "# InfluxDB-Client initialisieren\n",
    "token = \"HPDbq6ap_5th-bs482-QaRKVO1JzsMoLC2GxPA4PXq6aPTRPPUe4Uj7mXFhqoIn0dJMCxJnMuADSmOGZ-WpD4w==\"\n",
    "org = \"meineOrganisation\"\n",
    "bucket = \"meinBucket\"\n",
    "url = \"http://localhost:8086\"  # oder die URL Ihrer InfluxDB-Instanz\n",
    "\n",
    "client = InfluxDBClient(url=url, token=token, org=org)\n",
    "write_api = client.write_api(write_options=SYNCHRONOUS)\n",
    "\n",
    "def write_to_influxdb(topic, raw_value, client):\n",
    "    \"\"\"\n",
    "    Schreibt RAW-Werte in die InfluxDB.\n",
    "    \"\"\"\n",
    "    point = (\n",
    "        Point(\"measurement_name\")\n",
    "        .tag(\"topic\", topic)\n",
    "        .field(\"value\", raw_value)\n",
    "    )\n",
    "    write_api.write(bucket=bucket, org=org, record=point)\n",
    "    print(f\"Data written to InfluxDB: {raw_value}\")\n",
    "\n",
    "# Testen der Funktion\n",
    "write_to_influxdb(\"test_topic\", 100, client)\n"
   ]
  },
  {
   "cell_type": "code",
   "execution_count": 3,
   "id": "2f21c5f3-c31f-4dcd-97e4-d61209388c56",
   "metadata": {},
   "outputs": [
    {
     "name": "stdout",
     "output_type": "stream",
     "text": [
      "Data written to InfluxDB: 200, Tags: {'tag1': 'AWS11', 'tag2': 'Octopi', 'tag3': 'Hotend'}, Field: temperatur\n"
     ]
    }
   ],
   "source": [
    "def write_to_influxdb(topic, value, client):\n",
    "    \"\"\"\n",
    "    Schreibt Werte in die InfluxDB, indem das Topic in Tags aufgeteilt wird.\n",
    "    \"\"\"\n",
    "    topic_segments = topic.split('/')\n",
    "    tag_dict = {f\"tag{i+1}\": segment for i, segment in enumerate(topic_segments[:-1])}\n",
    "    field_name = topic_segments[-1]\n",
    "\n",
    "    point = Point(\"MQTT_BIDGE\")\n",
    "    for tag_key, tag_value in tag_dict.items():\n",
    "        point = point.tag(tag_key, tag_value)\n",
    "    point = point.field(field_name, value)\n",
    "\n",
    "    write_api.write(bucket=bucket, org=org, record=point)\n",
    "    print(f\"Data written to InfluxDB: {value}, Tags: {tag_dict}, Field: {field_name}\")\n",
    "\n",
    "# Testen der Funktion mit einem Topic aus mehreren Segmenten\n",
    "write_to_influxdb(\"AWS11/Octopi/Hotend/temperatur\", 200, client)\n"
   ]
  },
  {
   "cell_type": "code",
   "execution_count": 5,
   "id": "d291296b-7949-4493-a2dc-646eca6ba0b8",
   "metadata": {},
   "outputs": [],
   "source": [
    "tag_dict = {'tag1': 'AWS11', 'tag2': 'Octopi', 'tag3': 'Hotend'}\n",
    "field_name = \"temperatur\"\n",
    "field_value = 37"
   ]
  },
  {
   "cell_type": "code",
   "execution_count": 13,
   "id": "e1023d5d-8196-4893-b89e-5ddd83137dc2",
   "metadata": {},
   "outputs": [],
   "source": [
    "import os\n",
    "# InfluxDB-Verbindungseinstellungen\n",
    "influxdb_host = os.getenv(\"INFLUXDB_HOST\", \"localhost\")\n",
    "influxdb_port = int(os.getenv(\"INFLUXDB_PORT\", \"8086\"))\n",
    "influxdb_token = os.getenv(\"INFLUXDB_TOKEN\", \"HPDbq6ap_5th-bs482-QaRKVO1JzsMoLC2GxPA4PXq6aPTRPPUe4Uj7mXFhqoIn0dJMCxJnMuADSmOGZ-WpD4w==\")\n",
    "influxdb_org = os.getenv(\"INFLUXDB_ORG\",\"meineOrganisation\")  # Stellen Sie sicher, dass diese Zeile korrekt ist\n",
    "influxdb_bucket = os.getenv(\"INFLUXDB_BUCKET\", \"meinBucket\")"
   ]
  },
  {
   "cell_type": "code",
   "execution_count": 14,
   "id": "62705726-fb70-4bda-9975-1906210d913e",
   "metadata": {},
   "outputs": [],
   "source": [
    "# InfluxDB-Client initialisieren\n",
    "influxdb_client = InfluxDBClient(url=f\"http://{influxdb_host}:{str(influxdb_port)}\", token=influxdb_token, org=influxdb_org)\n",
    "write_api = influxdb_client.write_api(write_options=SYNCHRONOUS)"
   ]
  },
  {
   "cell_type": "code",
   "execution_count": 19,
   "id": "bd848be2-dd0f-4434-aab9-7040bd7ae3d4",
   "metadata": {},
   "outputs": [],
   "source": [
    "def write_to_influxdb(tag_dict, field_name, field_value):\n",
    "    \"\"\"\n",
    "    Schreibt Daten in die InfluxDB basierend auf den bereitgestellten Tags, Feldnamen und Feldwert.\n",
    "    \"\"\"\n",
    "    point = Point(\"your_measurement\")\n",
    "    for tag_key, tag_value in tag_dict.items():\n",
    "        point = point.tag(tag_key, tag_value)\n",
    "    point = point.field(field_name, field_value)\n",
    "    write_api.write(bucket=influxdb_bucket, org=influxdb_org, record=point)\n",
    "    #logger.info(f\"Data written to InfluxDB: {field_value}, Tags: {tags}, Field: {field_name}\")\n",
    "    print(f\"Data written to InfluxDB: {field_value}, Tags: {tag_dict}, Field: {field_name}\")\n"
   ]
  },
  {
   "cell_type": "code",
   "execution_count": 20,
   "id": "e61a24c6-0813-4a1b-aba5-b1ffbfbd6509",
   "metadata": {},
   "outputs": [
    {
     "name": "stdout",
     "output_type": "stream",
     "text": [
      "Data written to InfluxDB: 37, Tags: {'tag1': 'AWS11', 'tag2': 'Octopi', 'tag3': 'Hotend'}, Field: temperatur\n"
     ]
    }
   ],
   "source": [
    "write_to_influxdb(tag_dict, field_name, field_value)"
   ]
  },
  {
   "cell_type": "code",
   "execution_count": null,
   "id": "7cf6f5b9-782a-4ca0-bdcc-e592522b4f6b",
   "metadata": {},
   "outputs": [],
   "source": [
    "def process_message(msg):\n",
    "    \"\"\"\n",
    "    Verarbeitet die eingehende MQTT-Nachricht und extrahiert Tags und Felder für InfluxDB.\n",
    "    \"\"\"\n",
    "    topic_segments = msg.topic.split('/')\n",
    "    logger.info(\"topic_segments\", topic_segments)\n",
    "    tag_dict = {f\"tag{i+1}\": segment for i, segment in enumerate(topic_segments[:-1])}\n",
    "    field_name = topic_segments[-1]\n",
    "    try:\n",
    "        field_value = float(msg.payload.decode())\n",
    "    except ValueError:\n",
    "        field_value = msg.payload.decode()\n",
    "\n",
    "    #logger.info(\"tag_dict\", tag_dict)\n",
    "    #logger.info(\"field_namet\", field_name)\n",
    "    #logger.info(\"field_value\", field_value)\n",
    "    return tag_dict, field_name, field_value"
   ]
  }
 ],
 "metadata": {
  "kernelspec": {
   "display_name": "Python 3 (ipykernel)",
   "language": "python",
   "name": "python3"
  },
  "language_info": {
   "codemirror_mode": {
    "name": "ipython",
    "version": 3
   },
   "file_extension": ".py",
   "mimetype": "text/x-python",
   "name": "python",
   "nbconvert_exporter": "python",
   "pygments_lexer": "ipython3",
   "version": "3.9.12"
  }
 },
 "nbformat": 4,
 "nbformat_minor": 5
}
